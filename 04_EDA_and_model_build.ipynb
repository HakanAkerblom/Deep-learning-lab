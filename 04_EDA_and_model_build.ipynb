{
 "cells": [
  {
   "cell_type": "markdown",
   "metadata": {},
   "source": [
    "# EDA and cleaning"
   ]
  },
  {
   "cell_type": "code",
   "execution_count": 1,
   "metadata": {},
   "outputs": [
    {
     "data": {
      "text/plain": [
       "Reusing TensorBoard on port 6006 (pid 24096), started 3:23:34 ago. (Use '!kill 24096' to kill it.)"
      ]
     },
     "metadata": {},
     "output_type": "display_data"
    },
    {
     "data": {
      "text/html": [
       "\n",
       "      <iframe id=\"tensorboard-frame-e255dfdfd9cd713d\" width=\"100%\" height=\"800\" frameborder=\"0\">\n",
       "      </iframe>\n",
       "      <script>\n",
       "        (function() {\n",
       "          const frame = document.getElementById(\"tensorboard-frame-e255dfdfd9cd713d\");\n",
       "          const url = new URL(\"http://localhost\");\n",
       "          const port = 6006;\n",
       "          if (port) {\n",
       "            url.port = port;\n",
       "          }\n",
       "          frame.src = url;\n",
       "        })();\n",
       "      </script>\n",
       "    "
      ],
      "text/plain": [
       "<IPython.core.display.HTML object>"
      ]
     },
     "metadata": {},
     "output_type": "display_data"
    }
   ],
   "source": [
    "%load_ext tensorboard\n",
    "%tensorboard --logdir=./mylogs;"
   ]
  },
  {
   "cell_type": "code",
   "execution_count": 2,
   "metadata": {},
   "outputs": [
    {
     "name": "stdout",
     "output_type": "stream",
     "text": [
      "WARNING:tensorflow:From c:\\Users\\HåkanÅkerblom\\.virtualenvs\\Deep-learning-lab-XbqEFAT_\\lib\\site-packages\\keras\\src\\losses.py:2976: The name tf.losses.sparse_softmax_cross_entropy is deprecated. Please use tf.compat.v1.losses.sparse_softmax_cross_entropy instead.\n",
      "\n"
     ]
    },
    {
     "data": {
      "text/html": [
       "<div>\n",
       "<style scoped>\n",
       "    .dataframe tbody tr th:only-of-type {\n",
       "        vertical-align: middle;\n",
       "    }\n",
       "\n",
       "    .dataframe tbody tr th {\n",
       "        vertical-align: top;\n",
       "    }\n",
       "\n",
       "    .dataframe thead th {\n",
       "        text-align: right;\n",
       "    }\n",
       "</style>\n",
       "<table border=\"1\" class=\"dataframe\">\n",
       "  <thead>\n",
       "    <tr style=\"text-align: right;\">\n",
       "      <th></th>\n",
       "      <th>text</th>\n",
       "      <th>label</th>\n",
       "    </tr>\n",
       "  </thead>\n",
       "  <tbody>\n",
       "    <tr>\n",
       "      <th>0</th>\n",
       "      <td>i feel so pissed off over an old friend and so...</td>\n",
       "      <td>anger</td>\n",
       "    </tr>\n",
       "    <tr>\n",
       "      <th>1</th>\n",
       "      <td>ive found it has made a huge difference especi...</td>\n",
       "      <td>anger</td>\n",
       "    </tr>\n",
       "    <tr>\n",
       "      <th>2</th>\n",
       "      <td>i also feel it is unfortunate that nearly all ...</td>\n",
       "      <td>sadness</td>\n",
       "    </tr>\n",
       "    <tr>\n",
       "      <th>3</th>\n",
       "      <td>i feel petty a href http clairee</td>\n",
       "      <td>anger</td>\n",
       "    </tr>\n",
       "    <tr>\n",
       "      <th>4</th>\n",
       "      <td>i used to believe that a feeling like fear was...</td>\n",
       "      <td>sadness</td>\n",
       "    </tr>\n",
       "    <tr>\n",
       "      <th>5</th>\n",
       "      <td>i sit in the same hostel i did nearly two mont...</td>\n",
       "      <td>sadness</td>\n",
       "    </tr>\n",
       "    <tr>\n",
       "      <th>6</th>\n",
       "      <td>i want to just drown myself in the excitement ...</td>\n",
       "      <td>sadness</td>\n",
       "    </tr>\n",
       "    <tr>\n",
       "      <th>7</th>\n",
       "      <td>i could easily describe this transformed feeli...</td>\n",
       "      <td>sadness</td>\n",
       "    </tr>\n",
       "    <tr>\n",
       "      <th>8</th>\n",
       "      <td>i fought i could feel myself trusting this man...</td>\n",
       "      <td>joy</td>\n",
       "    </tr>\n",
       "    <tr>\n",
       "      <th>9</th>\n",
       "      <td>i the ultimate place to restore the peace to f...</td>\n",
       "      <td>joy</td>\n",
       "    </tr>\n",
       "    <tr>\n",
       "      <th>10</th>\n",
       "      <td>im not feeling deprived at all although i do w...</td>\n",
       "      <td>sadness</td>\n",
       "    </tr>\n",
       "    <tr>\n",
       "      <th>11</th>\n",
       "      <td>i cross the finish line i want to feel exhaust...</td>\n",
       "      <td>sadness</td>\n",
       "    </tr>\n",
       "    <tr>\n",
       "      <th>12</th>\n",
       "      <td>i only tried for three and i can still feel th...</td>\n",
       "      <td>love</td>\n",
       "    </tr>\n",
       "    <tr>\n",
       "      <th>13</th>\n",
       "      <td>i feel extremely honoured to have received suc...</td>\n",
       "      <td>joy</td>\n",
       "    </tr>\n",
       "    <tr>\n",
       "      <th>14</th>\n",
       "      <td>i never been feel this ashame this humiliated ...</td>\n",
       "      <td>sadness</td>\n",
       "    </tr>\n",
       "    <tr>\n",
       "      <th>15</th>\n",
       "      <td>i said i wanted to give you a little sample of...</td>\n",
       "      <td>joy</td>\n",
       "    </tr>\n",
       "    <tr>\n",
       "      <th>16</th>\n",
       "      <td>i can barely speak at all even though i feel j...</td>\n",
       "      <td>joy</td>\n",
       "    </tr>\n",
       "    <tr>\n",
       "      <th>17</th>\n",
       "      <td>i can make and one that i feel i am called to ...</td>\n",
       "      <td>joy</td>\n",
       "    </tr>\n",
       "    <tr>\n",
       "      <th>18</th>\n",
       "      <td>i would feel resentful toward patrick because ...</td>\n",
       "      <td>anger</td>\n",
       "    </tr>\n",
       "    <tr>\n",
       "      <th>19</th>\n",
       "      <td>i feel pretty much like this scene from a href...</td>\n",
       "      <td>joy</td>\n",
       "    </tr>\n",
       "  </tbody>\n",
       "</table>\n",
       "</div>"
      ],
      "text/plain": [
       "                                                 text    label\n",
       "0   i feel so pissed off over an old friend and so...    anger\n",
       "1   ive found it has made a huge difference especi...    anger\n",
       "2   i also feel it is unfortunate that nearly all ...  sadness\n",
       "3                    i feel petty a href http clairee    anger\n",
       "4   i used to believe that a feeling like fear was...  sadness\n",
       "5   i sit in the same hostel i did nearly two mont...  sadness\n",
       "6   i want to just drown myself in the excitement ...  sadness\n",
       "7   i could easily describe this transformed feeli...  sadness\n",
       "8   i fought i could feel myself trusting this man...      joy\n",
       "9   i the ultimate place to restore the peace to f...      joy\n",
       "10  im not feeling deprived at all although i do w...  sadness\n",
       "11  i cross the finish line i want to feel exhaust...  sadness\n",
       "12  i only tried for three and i can still feel th...     love\n",
       "13  i feel extremely honoured to have received suc...      joy\n",
       "14  i never been feel this ashame this humiliated ...  sadness\n",
       "15  i said i wanted to give you a little sample of...      joy\n",
       "16  i can barely speak at all even though i feel j...      joy\n",
       "17  i can make and one that i feel i am called to ...      joy\n",
       "18  i would feel resentful toward patrick because ...    anger\n",
       "19  i feel pretty much like this scene from a href...      joy"
      ]
     },
     "execution_count": 2,
     "metadata": {},
     "output_type": "execute_result"
    }
   ],
   "source": [
    "import pandas as pd\n",
    "from tensorflow import keras\n",
    "from sklearn.model_selection import train_test_split\n",
    "import matplotlib.pyplot as plt\n",
    "from sklearn.preprocessing import LabelEncoder\n",
    "import numpy as np\n",
    "\n",
    "data_df = pd.read_csv(\"data/emotions.csv\")\n",
    "data_df.head(20)\n"
   ]
  },
  {
   "cell_type": "code",
   "execution_count": 3,
   "metadata": {},
   "outputs": [
    {
     "data": {
      "text/html": [
       "<div>\n",
       "<style scoped>\n",
       "    .dataframe tbody tr th:only-of-type {\n",
       "        vertical-align: middle;\n",
       "    }\n",
       "\n",
       "    .dataframe tbody tr th {\n",
       "        vertical-align: top;\n",
       "    }\n",
       "\n",
       "    .dataframe thead th {\n",
       "        text-align: right;\n",
       "    }\n",
       "</style>\n",
       "<table border=\"1\" class=\"dataframe\">\n",
       "  <thead>\n",
       "    <tr style=\"text-align: right;\">\n",
       "      <th></th>\n",
       "      <th>text</th>\n",
       "      <th>label</th>\n",
       "    </tr>\n",
       "  </thead>\n",
       "  <tbody>\n",
       "    <tr>\n",
       "      <th>0</th>\n",
       "      <td>i feel so pissed off over an old friend and so...</td>\n",
       "      <td>anger</td>\n",
       "    </tr>\n",
       "    <tr>\n",
       "      <th>1</th>\n",
       "      <td>ive found it has made a huge difference especi...</td>\n",
       "      <td>anger</td>\n",
       "    </tr>\n",
       "    <tr>\n",
       "      <th>2</th>\n",
       "      <td>i also feel it is unfortunate that nearly all ...</td>\n",
       "      <td>sadness</td>\n",
       "    </tr>\n",
       "    <tr>\n",
       "      <th>3</th>\n",
       "      <td>i feel petty</td>\n",
       "      <td>anger</td>\n",
       "    </tr>\n",
       "    <tr>\n",
       "      <th>4</th>\n",
       "      <td>i used to believe that a feeling like fear was...</td>\n",
       "      <td>sadness</td>\n",
       "    </tr>\n",
       "    <tr>\n",
       "      <th>...</th>\n",
       "      <td>...</td>\n",
       "      <td>...</td>\n",
       "    </tr>\n",
       "    <tr>\n",
       "      <th>19995</th>\n",
       "      <td>i was i might be buying stuff from there but i...</td>\n",
       "      <td>joy</td>\n",
       "    </tr>\n",
       "    <tr>\n",
       "      <th>19996</th>\n",
       "      <td>i like sonam deepika and genelia who i feel ar...</td>\n",
       "      <td>joy</td>\n",
       "    </tr>\n",
       "    <tr>\n",
       "      <th>19997</th>\n",
       "      <td>i feel pathetic that i can hardly go a whole d...</td>\n",
       "      <td>sadness</td>\n",
       "    </tr>\n",
       "    <tr>\n",
       "      <th>19998</th>\n",
       "      <td>id have spent more time with her on reading i ...</td>\n",
       "      <td>sadness</td>\n",
       "    </tr>\n",
       "    <tr>\n",
       "      <th>19999</th>\n",
       "      <td>i do however feel like one of those pathetic g...</td>\n",
       "      <td>sadness</td>\n",
       "    </tr>\n",
       "  </tbody>\n",
       "</table>\n",
       "<p>20000 rows × 2 columns</p>\n",
       "</div>"
      ],
      "text/plain": [
       "                                                    text    label\n",
       "0      i feel so pissed off over an old friend and so...    anger\n",
       "1      ive found it has made a huge difference especi...    anger\n",
       "2      i also feel it is unfortunate that nearly all ...  sadness\n",
       "3                                          i feel petty     anger\n",
       "4      i used to believe that a feeling like fear was...  sadness\n",
       "...                                                  ...      ...\n",
       "19995  i was i might be buying stuff from there but i...      joy\n",
       "19996  i like sonam deepika and genelia who i feel ar...      joy\n",
       "19997  i feel pathetic that i can hardly go a whole d...  sadness\n",
       "19998  id have spent more time with her on reading i ...  sadness\n",
       "19999  i do however feel like one of those pathetic g...  sadness\n",
       "\n",
       "[20000 rows x 2 columns]"
      ]
     },
     "execution_count": 3,
     "metadata": {},
     "output_type": "execute_result"
    }
   ],
   "source": [
    "# We note that text for links are included and should be removed\n",
    "import re\n",
    "\n",
    "\n",
    "def clean_string_in_series(series, patterns):\n",
    "    # Compile the regex pattern\n",
    "    regex = re.compile(patterns)\n",
    "\n",
    "    # Apply the regex substitution to each element of the series\n",
    "    return series.apply(lambda x: regex.sub(\"\", x) if isinstance(x, str) else x)\n",
    "\n",
    "\n",
    "# setting pattern and running function\n",
    "pattern = r\"(a href.*|href.*|http.*)\"\n",
    "data_df[\"text\"] = clean_string_in_series(data_df[\"text\"], pattern)\n",
    "\n",
    "data_df"
   ]
  },
  {
   "cell_type": "code",
   "execution_count": 4,
   "metadata": {},
   "outputs": [
    {
     "data": {
      "text/plain": [
       "((15300,), (15300,), (2700,), (2700,), (2000,), (2000,))"
      ]
     },
     "execution_count": 4,
     "metadata": {},
     "output_type": "execute_result"
    }
   ],
   "source": [
    "# Now that the data is cleaned we do a train, test, val-split\n",
    "\n",
    "X_train, X_test, y_train, y_test = train_test_split(data_df[\"text\"], data_df[\"label\"], test_size=0.1, random_state=42)\n",
    "\n",
    "X_train, X_val, y_train, y_val = train_test_split(X_train, y_train, test_size=0.15, random_state=42)\n",
    "\n",
    "X_train.shape, y_train.shape, X_val.shape, y_val.shape, X_test.shape, y_test.shape"
   ]
  },
  {
   "cell_type": "code",
   "execution_count": 5,
   "metadata": {},
   "outputs": [
    {
     "data": {
      "image/png": "[encoded data removed]",
      "text/plain": [
       "<Figure size 640x480 with 4 Axes>"
      ]
     },
     "metadata": {},
     "output_type": "display_data"
    }
   ],
   "source": [
    "# plotting splits\n",
    "\n",
    "s_1 = y_train.value_counts()\n",
    "s_2 = y_val.value_counts()\n",
    "s_3 = y_test.value_counts()\n",
    "s_4 = data_df[\"label\"].value_counts()\n",
    "\n",
    "plt.subplot(2, 2, 1)\n",
    "plt.title(\"train\")\n",
    "plt.pie(s_1, labels=s_1.index, autopct='%1.0f%%');\n",
    "\n",
    "plt.subplot(2, 2, 2)\n",
    "plt.title(\"val\")\n",
    "plt.pie(s_2, labels=s_2.index, autopct='%1.0f%%');\n",
    "\n",
    "plt.subplot(2, 2, 3)\n",
    "plt.title(\"test\")\n",
    "plt.pie(s_3, labels=s_3.index, autopct='%1.0f%%');\n",
    "\n",
    "plt.subplot(2, 2, 4)\n",
    "plt.title(\"all\")\n",
    "plt.pie(s_4, labels=s_4.index, autopct='%1.0f%%');\n",
    "\n",
    "# We note that the data is fairly unbalanced, with joy and sadness being the most common and surprise and love being the least common.\n",
    "# The balance between the splits is acceptable though"
   ]
  },
  {
   "cell_type": "markdown",
   "metadata": {},
   "source": [
    "## Vectorization and padding"
   ]
  },
  {
   "cell_type": "code",
   "execution_count": 6,
   "metadata": {},
   "outputs": [],
   "source": [
    "# integer encoding\n",
    "\n",
    "label_encoder = LabelEncoder()\n",
    "y_train = label_encoder.fit_transform(y_train)\n",
    "y_val = label_encoder.transform(y_val)\n",
    "y_test = label_encoder.transform(y_test)"
   ]
  },
  {
   "cell_type": "code",
   "execution_count": 38,
   "metadata": {},
   "outputs": [],
   "source": [
    "from keras.layers import TextVectorization\n",
    "from keras.preprocessing.sequence import pad_sequences\n",
    "\n",
    "VOCAB_SIZE = 1000\n",
    "\n",
    "# Creating Vectorization instance\n",
    "encoder = keras.layers.TextVectorization(max_tokens=VOCAB_SIZE, output_mode=\"int\", pad_to_max_tokens=True)\n",
    "encoder.adapt(X_train)\n",
    "\n",
    "X_train_vec = encoder(X_train).numpy()\n",
    "X_val_vec = encoder(X_val).numpy()\n",
    "X_test_vec = encoder(X_test).numpy()\n",
    "\n",
    "# padding the X_datasets\n",
    "MAX_LENGTH = max([len(seq) for seq in X_train_vec])\n",
    "X_train_padded = pad_sequences(X_train_vec, maxlen=MAX_LENGTH, padding='post')\n",
    "X_val_padded = pad_sequences(X_val_vec, maxlen=MAX_LENGTH, padding='post')\n",
    "X_test_padded = pad_sequences(X_test_vec, maxlen=MAX_LENGTH, padding='post')\n",
    "\n",
    "\n"
   ]
  },
  {
   "cell_type": "code",
   "execution_count": 41,
   "metadata": {},
   "outputs": [],
   "source": [
    "from keras.models import Sequential\n",
    "from keras.layers import Embedding, SimpleRNN, Dense, GRU, LSTM, Dropout, BatchNormalization\n",
    "from keras.regularizers import l1_l2\n",
    "\n",
    "EMBEDDING_DIM = 96  # Size of the word embeddings\n",
    "RNN_UNITS = 16      # Number of units in RNN layer\n",
    "\n",
    "\n",
    "model = Sequential([\n",
    "    # Embedding layer\n",
    "    Embedding(input_dim=VOCAB_SIZE, output_dim=EMBEDDING_DIM, input_length=MAX_LENGTH),\n",
    "    \n",
    "    # RNN layer\n",
    "    GRU(RNN_UNITS, activation=\"tanh\", return_sequences=False),\n",
    "    Dropout(0.5),\n",
    "    \n",
    "    # Dense layer for classification\n",
    "    Dense(6, activation='softmax')\n",
    "])\n",
    "\n",
    "model.compile(optimizer='adam', loss='sparse_categorical_crossentropy', metrics=['accuracy'])\n"
   ]
  },
  {
   "cell_type": "code",
   "execution_count": 42,
   "metadata": {},
   "outputs": [
    {
     "name": "stdout",
     "output_type": "stream",
     "text": [
      "Model: \"sequential_7\"\n",
      "_________________________________________________________________\n",
      " Layer (type)                Output Shape              Param #   \n",
      "=================================================================\n",
      " embedding_7 (Embedding)     (None, 64, 96)            96000     \n",
      "                                                                 \n",
      " gru_7 (GRU)                 (None, 16)                5472      \n",
      "                                                                 \n",
      " dropout_6 (Dropout)         (None, 16)                0         \n",
      "                                                                 \n",
      " dense_7 (Dense)             (None, 6)                 102       \n",
      "                                                                 \n",
      "=================================================================\n",
      "Total params: 101574 (396.77 KB)\n",
      "Trainable params: 101574 (396.77 KB)\n",
      "Non-trainable params: 0 (0.00 Byte)\n",
      "_________________________________________________________________\n"
     ]
    }
   ],
   "source": [
    "model.summary()"
   ]
  },
  {
   "cell_type": "code",
   "execution_count": 43,
   "metadata": {},
   "outputs": [
    {
     "data": {
      "text/plain": [
       "WindowsPath('my_logs/run_2024_01_12_14_44_36_GRU_16units_1layer_dropout_0_5_batchnorm')"
      ]
     },
     "execution_count": 43,
     "metadata": {},
     "output_type": "execute_result"
    }
   ],
   "source": [
    "from keras.callbacks import EarlyStopping, TensorBoard\n",
    "from time import strftime\n",
    "from pathlib import Path\n",
    "\n",
    "# Callbacks\n",
    "\n",
    "# Defining tensorboard callback for logging and visualization\n",
    "def get_run_logdir(custom_text=\"\", root_logdir=\"my_logs\"):\n",
    "    formatted_time = strftime(\"run_%Y_%m_%d_%H_%M_%S\")\n",
    "    if custom_text:\n",
    "        custom_text = \"_\" + custom_text\n",
    "    return Path(root_logdir) / (formatted_time + custom_text)\n",
    "\n",
    "\n",
    "run_logdir = get_run_logdir(\"GRU_16units_1layer_dropout_0_5\")\n",
    "\n",
    "tensorboard_cb = TensorBoard(run_logdir)\n",
    "\n",
    "# Defining earlystopping callback to stop training if model isnt getting better\n",
    "early_stop_cb = EarlyStopping(monitor=\"val_loss\", patience=10)\n",
    "run_logdir"
   ]
  },
  {
   "cell_type": "code",
   "execution_count": 44,
   "metadata": {},
   "outputs": [
    {
     "name": "stdout",
     "output_type": "stream",
     "text": [
      "Epoch 1/30\n",
      "240/240 [==============================] - 9s 26ms/step - loss: 1.6148 - accuracy: 0.3183 - val_loss: 1.5784 - val_accuracy: 0.3507\n",
      "Epoch 2/30\n",
      "240/240 [==============================] - 6s 27ms/step - loss: 1.5939 - accuracy: 0.3207 - val_loss: 1.5777 - val_accuracy: 0.3507\n",
      "Epoch 3/30\n",
      "240/240 [==============================] - 6s 26ms/step - loss: 1.5887 - accuracy: 0.3250 - val_loss: 1.5759 - val_accuracy: 0.3507\n",
      "Epoch 4/30\n",
      "240/240 [==============================] - 6s 26ms/step - loss: 1.5847 - accuracy: 0.3292 - val_loss: 1.5727 - val_accuracy: 0.3507\n",
      "Epoch 5/30\n",
      "240/240 [==============================] - 6s 25ms/step - loss: 1.5838 - accuracy: 0.3306 - val_loss: 1.5731 - val_accuracy: 0.3507\n",
      "Epoch 6/30\n",
      "240/240 [==============================] - 6s 24ms/step - loss: 1.5820 - accuracy: 0.3305 - val_loss: 1.5722 - val_accuracy: 0.3507\n",
      "Epoch 7/30\n",
      "240/240 [==============================] - 6s 25ms/step - loss: 1.1279 - accuracy: 0.5712 - val_loss: 0.4987 - val_accuracy: 0.8311\n",
      "Epoch 8/30\n",
      "240/240 [==============================] - 6s 27ms/step - loss: 0.4823 - accuracy: 0.8409 - val_loss: 0.3645 - val_accuracy: 0.8689\n",
      "Epoch 9/30\n",
      "240/240 [==============================] - 6s 27ms/step - loss: 0.3939 - accuracy: 0.8678 - val_loss: 0.3511 - val_accuracy: 0.8659\n",
      "Epoch 10/30\n",
      "240/240 [==============================] - 6s 26ms/step - loss: 0.3502 - accuracy: 0.8803 - val_loss: 0.3496 - val_accuracy: 0.8752\n",
      "Epoch 11/30\n",
      "240/240 [==============================] - 6s 25ms/step - loss: 0.3271 - accuracy: 0.8869 - val_loss: 0.3523 - val_accuracy: 0.8689\n",
      "Epoch 12/30\n",
      "240/240 [==============================] - 7s 27ms/step - loss: 0.3024 - accuracy: 0.8923 - val_loss: 0.3452 - val_accuracy: 0.8685\n",
      "Epoch 13/30\n",
      "240/240 [==============================] - 8s 33ms/step - loss: 0.2905 - accuracy: 0.8982 - val_loss: 0.3459 - val_accuracy: 0.8752\n",
      "Epoch 14/30\n",
      "240/240 [==============================] - 8s 32ms/step - loss: 0.2768 - accuracy: 0.9019 - val_loss: 0.3801 - val_accuracy: 0.8648\n",
      "Epoch 15/30\n",
      "240/240 [==============================] - 9s 36ms/step - loss: 0.2649 - accuracy: 0.9036 - val_loss: 0.3758 - val_accuracy: 0.8693\n",
      "Epoch 16/30\n",
      "240/240 [==============================] - 8s 33ms/step - loss: 0.2545 - accuracy: 0.9076 - val_loss: 0.3987 - val_accuracy: 0.8681\n",
      "Epoch 17/30\n",
      "240/240 [==============================] - 8s 35ms/step - loss: 0.2448 - accuracy: 0.9134 - val_loss: 0.4093 - val_accuracy: 0.8700\n",
      "Epoch 18/30\n",
      "240/240 [==============================] - 8s 33ms/step - loss: 0.2327 - accuracy: 0.9176 - val_loss: 0.4301 - val_accuracy: 0.8659\n",
      "Epoch 19/30\n",
      "240/240 [==============================] - 8s 35ms/step - loss: 0.2294 - accuracy: 0.9149 - val_loss: 0.4225 - val_accuracy: 0.8689\n",
      "Epoch 20/30\n",
      "240/240 [==============================] - 8s 32ms/step - loss: 0.2202 - accuracy: 0.9206 - val_loss: 0.4372 - val_accuracy: 0.8696\n",
      "Epoch 21/30\n",
      "240/240 [==============================] - 9s 36ms/step - loss: 0.2158 - accuracy: 0.9227 - val_loss: 0.4448 - val_accuracy: 0.8704\n",
      "Epoch 22/30\n",
      "240/240 [==============================] - 9s 39ms/step - loss: 0.2100 - accuracy: 0.9230 - val_loss: 0.4546 - val_accuracy: 0.8626\n"
     ]
    }
   ],
   "source": [
    "# Train the model\n",
    "EPOCHS = 30\n",
    "BATCH_SIZE = 64\n",
    "\n",
    "history = model.fit(\n",
    "    X_train_padded,\n",
    "    y_train,\n",
    "    epochs=EPOCHS,\n",
    "    batch_size=BATCH_SIZE,\n",
    "    validation_data=(X_val_padded, y_val),\n",
    "    callbacks=(early_stop_cb, tensorboard_cb)\n",
    ")"
   ]
  },
  {
   "cell_type": "code",
   "execution_count": 46,
   "metadata": {},
   "outputs": [
    {
     "name": "stdout",
     "output_type": "stream",
     "text": [
      "63/63 [==============================] - 0s 7ms/step - loss: 0.5135 - accuracy: 0.8480\n"
     ]
    },
    {
     "data": {
      "text/plain": [
       "[0.5135113596916199, 0.8479999899864197]"
      ]
     },
     "execution_count": 46,
     "metadata": {},
     "output_type": "execute_result"
    }
   ],
   "source": [
    "# evaluate model\n",
    "\n",
    "model.evaluate(X_test_padded, y_test)"
   ]
  },
  {
   "cell_type": "markdown",
   "metadata": {},
   "source": [
    "## Svar på frågor:\n",
    "\n",
    "- Motivera din modellarkitektur och val av relevanta hyperparametrar  \n",
    "\n",
    "Jag testade tre huvudsakliga varianter: SimpleRNN, LSTM och GRU. GRU presterade överlägset bäst och blev snabbt overfittad med upp till 0.95 acc på traindatan trots väldigt enkel arkitektur (1 layer, 8 units). Jag jobbade därför mest med GRU och försökte på olika sätt att bli av med den stora overfittingen. Jag hade ofta 0.95 acc på traindatan och cirka 0.85 acc på val. \n",
    "\n",
    "- Vilka aktiveringsfunktioner har du använt? Varför?\n",
    "\n",
    "tanh i hiddenlayers, softmax i outputlayer. För att det är standard.\n",
    "\n",
    "- Vilken loss funktion har du använt? Varför?  \n",
    "\n",
    "sparse_categorical_crossentropy. För att det är standard.\n",
    "\n",
    "- Har du använt någon databehandling? Motivera dina val.  \n",
    "\n",
    "Jag tog bort lite text som såg ut att har att göra med länkar till bilder som innehöll \"a href\"\n",
    "\n",
    "- Har du använt någon regulariseringsteknik? Motivera.  \n",
    "\n",
    "Eftersom jag snabbt fick väldigt mycket overfitting även med relativt enkla modeller så har jag jobbat mycket med regularisering, framförallt dropout, som fungerar ganska bra, även ända upp till 0.8. Jag har även provat med Batchnormalization samt L1 och L2, men de har inte gett så bra resultat.\n",
    "\n",
    "- Hur har modellen utvärderats?  \n",
    "\n",
    "Jag har använt Tensorboard för att logga mina test, jag har gjort hyperparametertuning manuellt.\n",
    "\n",
    "- Är prestandan bra? Varför/varför inte?\n",
    "0.87 acc på val_datan på säger vara bra\n",
    "\n",
    "- Vad hade du kunnat göra för att förbättra den ytterligare?\n",
    "Arbeta med dataaugmentation som jag inte har provat. Datasetet är inte jättestort och det hade kunnat vara ett sätt att få ner overfittingen.\n",
    "\n",
    "- Generativ AI har blivit stort inom text. Beskriv skillnaden mellan generativ AI och mer traditionell AI  \n",
    "\n",
    "Det beror på vad man menar med tradationell AI. GOFAI använder sig av regler istället för maskininlärning, men mer tradationell maskininlärning använder sig av data för att dra slutsatser om datan på olika sätt. Dels genom att klassificera data till olika klasser, eller att någon form av regression där man försöker beskriva hur någon eller några oberoende variabler förklarar en beroende variabel.\n",
    "\n",
    "Generativ AI däremot försöker skapa egen data som ska efterlikna den data den tränats på, exempelvis text eller bilder.\n",
    "\n"
   ]
  },
  {
   "cell_type": "markdown",
   "metadata": {},
   "source": [
    "## Visualisering\n",
    "\n",
    "Ursäkta den dåliga kvaliten, bilden ger dock en hint om de många olika varianter av hyperparamterar jag provat som kommer upp i val acc på cirka 0.85\n",
    "\n",
    "<img src=\"RNN_tensorboard.png\" alt=\"Alternative text\" />"
   ]
  },
  {
   "cell_type": "markdown",
   "metadata": {},
   "source": []
  }
 ],
 "metadata": {
  "kernelspec": {
   "display_name": "Deep-learning-lab-O8p5G3Ji",
   "language": "python",
   "name": "python3"
  },
  "language_info": {
   "codemirror_mode": {
    "name": "ipython",
    "version": 3
   },
   "file_extension": ".py",
   "mimetype": "text/x-python",
   "name": "python",
   "nbconvert_exporter": "python",
   "pygments_lexer": "ipython3",
   "version": "3.10.0"
  }
 },
 "nbformat": 4,
 "nbformat_minor": 2
}
