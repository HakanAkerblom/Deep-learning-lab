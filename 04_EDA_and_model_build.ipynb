{
 "cells": [
  {
   "cell_type": "markdown",
   "metadata": {},
   "source": [
    "# EDA and cleaning"
   ]
  },
  {
   "cell_type": "code",
   "execution_count": 1,
   "metadata": {},
   "outputs": [
    {
     "name": "stdout",
     "output_type": "stream",
     "text": [
      "WARNING:tensorflow:From c:\\Users\\hakan\\.virtualenvs\\Deep-learning-lab-O8p5G3Ji\\lib\\site-packages\\keras\\src\\losses.py:2976: The name tf.losses.sparse_softmax_cross_entropy is deprecated. Please use tf.compat.v1.losses.sparse_softmax_cross_entropy instead.\n",
      "\n"
     ]
    },
    {
     "data": {
      "text/html": [
       "<div>\n",
       "<style scoped>\n",
       "    .dataframe tbody tr th:only-of-type {\n",
       "        vertical-align: middle;\n",
       "    }\n",
       "\n",
       "    .dataframe tbody tr th {\n",
       "        vertical-align: top;\n",
       "    }\n",
       "\n",
       "    .dataframe thead th {\n",
       "        text-align: right;\n",
       "    }\n",
       "</style>\n",
       "<table border=\"1\" class=\"dataframe\">\n",
       "  <thead>\n",
       "    <tr style=\"text-align: right;\">\n",
       "      <th></th>\n",
       "      <th>text</th>\n",
       "      <th>label</th>\n",
       "    </tr>\n",
       "  </thead>\n",
       "  <tbody>\n",
       "    <tr>\n",
       "      <th>0</th>\n",
       "      <td>i feel so pissed off over an old friend and so...</td>\n",
       "      <td>anger</td>\n",
       "    </tr>\n",
       "    <tr>\n",
       "      <th>1</th>\n",
       "      <td>ive found it has made a huge difference especi...</td>\n",
       "      <td>anger</td>\n",
       "    </tr>\n",
       "    <tr>\n",
       "      <th>2</th>\n",
       "      <td>i also feel it is unfortunate that nearly all ...</td>\n",
       "      <td>sadness</td>\n",
       "    </tr>\n",
       "    <tr>\n",
       "      <th>3</th>\n",
       "      <td>i feel petty a href http clairee</td>\n",
       "      <td>anger</td>\n",
       "    </tr>\n",
       "    <tr>\n",
       "      <th>4</th>\n",
       "      <td>i used to believe that a feeling like fear was...</td>\n",
       "      <td>sadness</td>\n",
       "    </tr>\n",
       "    <tr>\n",
       "      <th>5</th>\n",
       "      <td>i sit in the same hostel i did nearly two mont...</td>\n",
       "      <td>sadness</td>\n",
       "    </tr>\n",
       "    <tr>\n",
       "      <th>6</th>\n",
       "      <td>i want to just drown myself in the excitement ...</td>\n",
       "      <td>sadness</td>\n",
       "    </tr>\n",
       "    <tr>\n",
       "      <th>7</th>\n",
       "      <td>i could easily describe this transformed feeli...</td>\n",
       "      <td>sadness</td>\n",
       "    </tr>\n",
       "    <tr>\n",
       "      <th>8</th>\n",
       "      <td>i fought i could feel myself trusting this man...</td>\n",
       "      <td>joy</td>\n",
       "    </tr>\n",
       "    <tr>\n",
       "      <th>9</th>\n",
       "      <td>i the ultimate place to restore the peace to f...</td>\n",
       "      <td>joy</td>\n",
       "    </tr>\n",
       "    <tr>\n",
       "      <th>10</th>\n",
       "      <td>im not feeling deprived at all although i do w...</td>\n",
       "      <td>sadness</td>\n",
       "    </tr>\n",
       "    <tr>\n",
       "      <th>11</th>\n",
       "      <td>i cross the finish line i want to feel exhaust...</td>\n",
       "      <td>sadness</td>\n",
       "    </tr>\n",
       "    <tr>\n",
       "      <th>12</th>\n",
       "      <td>i only tried for three and i can still feel th...</td>\n",
       "      <td>love</td>\n",
       "    </tr>\n",
       "    <tr>\n",
       "      <th>13</th>\n",
       "      <td>i feel extremely honoured to have received suc...</td>\n",
       "      <td>joy</td>\n",
       "    </tr>\n",
       "    <tr>\n",
       "      <th>14</th>\n",
       "      <td>i never been feel this ashame this humiliated ...</td>\n",
       "      <td>sadness</td>\n",
       "    </tr>\n",
       "    <tr>\n",
       "      <th>15</th>\n",
       "      <td>i said i wanted to give you a little sample of...</td>\n",
       "      <td>joy</td>\n",
       "    </tr>\n",
       "    <tr>\n",
       "      <th>16</th>\n",
       "      <td>i can barely speak at all even though i feel j...</td>\n",
       "      <td>joy</td>\n",
       "    </tr>\n",
       "    <tr>\n",
       "      <th>17</th>\n",
       "      <td>i can make and one that i feel i am called to ...</td>\n",
       "      <td>joy</td>\n",
       "    </tr>\n",
       "    <tr>\n",
       "      <th>18</th>\n",
       "      <td>i would feel resentful toward patrick because ...</td>\n",
       "      <td>anger</td>\n",
       "    </tr>\n",
       "    <tr>\n",
       "      <th>19</th>\n",
       "      <td>i feel pretty much like this scene from a href...</td>\n",
       "      <td>joy</td>\n",
       "    </tr>\n",
       "  </tbody>\n",
       "</table>\n",
       "</div>"
      ],
      "text/plain": [
       "                                                 text    label\n",
       "0   i feel so pissed off over an old friend and so...    anger\n",
       "1   ive found it has made a huge difference especi...    anger\n",
       "2   i also feel it is unfortunate that nearly all ...  sadness\n",
       "3                    i feel petty a href http clairee    anger\n",
       "4   i used to believe that a feeling like fear was...  sadness\n",
       "5   i sit in the same hostel i did nearly two mont...  sadness\n",
       "6   i want to just drown myself in the excitement ...  sadness\n",
       "7   i could easily describe this transformed feeli...  sadness\n",
       "8   i fought i could feel myself trusting this man...      joy\n",
       "9   i the ultimate place to restore the peace to f...      joy\n",
       "10  im not feeling deprived at all although i do w...  sadness\n",
       "11  i cross the finish line i want to feel exhaust...  sadness\n",
       "12  i only tried for three and i can still feel th...     love\n",
       "13  i feel extremely honoured to have received suc...      joy\n",
       "14  i never been feel this ashame this humiliated ...  sadness\n",
       "15  i said i wanted to give you a little sample of...      joy\n",
       "16  i can barely speak at all even though i feel j...      joy\n",
       "17  i can make and one that i feel i am called to ...      joy\n",
       "18  i would feel resentful toward patrick because ...    anger\n",
       "19  i feel pretty much like this scene from a href...      joy"
      ]
     },
     "execution_count": 1,
     "metadata": {},
     "output_type": "execute_result"
    }
   ],
   "source": [
    "import pandas as pd\n",
    "from tensorflow import keras\n",
    "from sklearn.model_selection import train_test_split\n",
    "import matplotlib.pyplot as plt\n",
    "from sklearn.preprocessing import LabelEncoder\n",
    "\n",
    "data_df = pd.read_csv(\"data/emotions.csv\")\n",
    "data_df.head(20)\n"
   ]
  },
  {
   "cell_type": "code",
   "execution_count": 2,
   "metadata": {},
   "outputs": [],
   "source": [
    "# integer encoding\n",
    "\n",
    "label_encoder = LabelEncoder()\n",
    "data_df[\"label\"] = label_encoder.fit_transform(data_df[\"label\"])"
   ]
  },
  {
   "cell_type": "code",
   "execution_count": 3,
   "metadata": {},
   "outputs": [
    {
     "data": {
      "text/html": [
       "<div>\n",
       "<style scoped>\n",
       "    .dataframe tbody tr th:only-of-type {\n",
       "        vertical-align: middle;\n",
       "    }\n",
       "\n",
       "    .dataframe tbody tr th {\n",
       "        vertical-align: top;\n",
       "    }\n",
       "\n",
       "    .dataframe thead th {\n",
       "        text-align: right;\n",
       "    }\n",
       "</style>\n",
       "<table border=\"1\" class=\"dataframe\">\n",
       "  <thead>\n",
       "    <tr style=\"text-align: right;\">\n",
       "      <th></th>\n",
       "      <th>text</th>\n",
       "      <th>label</th>\n",
       "    </tr>\n",
       "  </thead>\n",
       "  <tbody>\n",
       "    <tr>\n",
       "      <th>0</th>\n",
       "      <td>i feel so pissed off over an old friend and so...</td>\n",
       "      <td>0</td>\n",
       "    </tr>\n",
       "    <tr>\n",
       "      <th>1</th>\n",
       "      <td>ive found it has made a huge difference especi...</td>\n",
       "      <td>0</td>\n",
       "    </tr>\n",
       "    <tr>\n",
       "      <th>2</th>\n",
       "      <td>i also feel it is unfortunate that nearly all ...</td>\n",
       "      <td>4</td>\n",
       "    </tr>\n",
       "    <tr>\n",
       "      <th>3</th>\n",
       "      <td>i feel petty</td>\n",
       "      <td>0</td>\n",
       "    </tr>\n",
       "    <tr>\n",
       "      <th>4</th>\n",
       "      <td>i used to believe that a feeling like fear was...</td>\n",
       "      <td>4</td>\n",
       "    </tr>\n",
       "    <tr>\n",
       "      <th>...</th>\n",
       "      <td>...</td>\n",
       "      <td>...</td>\n",
       "    </tr>\n",
       "    <tr>\n",
       "      <th>19995</th>\n",
       "      <td>i was i might be buying stuff from there but i...</td>\n",
       "      <td>2</td>\n",
       "    </tr>\n",
       "    <tr>\n",
       "      <th>19996</th>\n",
       "      <td>i like sonam deepika and genelia who i feel ar...</td>\n",
       "      <td>2</td>\n",
       "    </tr>\n",
       "    <tr>\n",
       "      <th>19997</th>\n",
       "      <td>i feel pathetic that i can hardly go a whole d...</td>\n",
       "      <td>4</td>\n",
       "    </tr>\n",
       "    <tr>\n",
       "      <th>19998</th>\n",
       "      <td>id have spent more time with her on reading i ...</td>\n",
       "      <td>4</td>\n",
       "    </tr>\n",
       "    <tr>\n",
       "      <th>19999</th>\n",
       "      <td>i do however feel like one of those pathetic g...</td>\n",
       "      <td>4</td>\n",
       "    </tr>\n",
       "  </tbody>\n",
       "</table>\n",
       "<p>20000 rows × 2 columns</p>\n",
       "</div>"
      ],
      "text/plain": [
       "                                                    text  label\n",
       "0      i feel so pissed off over an old friend and so...      0\n",
       "1      ive found it has made a huge difference especi...      0\n",
       "2      i also feel it is unfortunate that nearly all ...      4\n",
       "3                                          i feel petty       0\n",
       "4      i used to believe that a feeling like fear was...      4\n",
       "...                                                  ...    ...\n",
       "19995  i was i might be buying stuff from there but i...      2\n",
       "19996  i like sonam deepika and genelia who i feel ar...      2\n",
       "19997  i feel pathetic that i can hardly go a whole d...      4\n",
       "19998  id have spent more time with her on reading i ...      4\n",
       "19999  i do however feel like one of those pathetic g...      4\n",
       "\n",
       "[20000 rows x 2 columns]"
      ]
     },
     "execution_count": 3,
     "metadata": {},
     "output_type": "execute_result"
    }
   ],
   "source": [
    "# We note that text for links are included and should be removed\n",
    "import re\n",
    "\n",
    "\n",
    "def clean_string_in_series(series, patterns):\n",
    "    # Compile the regex pattern\n",
    "    regex = re.compile(patterns)\n",
    "\n",
    "    # Apply the regex substitution to each element of the series\n",
    "    return series.apply(lambda x: regex.sub(\"\", x) if isinstance(x, str) else x)\n",
    "\n",
    "\n",
    "# setting pattern and running function\n",
    "pattern = r\"(a href.*|href.*|http.*)\"\n",
    "data_df[\"text\"] = clean_string_in_series(data_df[\"text\"], pattern)\n",
    "\n",
    "data_df"
   ]
  },
  {
   "cell_type": "code",
   "execution_count": 4,
   "metadata": {},
   "outputs": [
    {
     "data": {
      "text/plain": [
       "((15300,), (15300,), (2700,), (2700,), (2000,), (2000,))"
      ]
     },
     "execution_count": 4,
     "metadata": {},
     "output_type": "execute_result"
    }
   ],
   "source": [
    "# Now that the data is cleaned we do a train, test, val-split\n",
    "\n",
    "X_train, X_test, y_train, y_test = train_test_split(data_df[\"text\"], data_df[\"label\"], test_size=0.1, random_state=42)\n",
    "\n",
    "X_train, X_val, y_train, y_val = train_test_split(X_train, y_train, test_size=0.15, random_state=42)\n",
    "\n",
    "X_train.shape, y_train.shape, X_val.shape, y_val.shape, X_test.shape, y_test.shape"
   ]
  },
  {
   "cell_type": "code",
   "execution_count": 5,
   "metadata": {},
   "outputs": [
    {
     "data": {
      "image/png": "[encoded data removed]",
      "text/plain": [
       "<Figure size 640x480 with 4 Axes>"
      ]
     },
     "metadata": {},
     "output_type": "display_data"
    }
   ],
   "source": [
    "# plotting splits\n",
    "\n",
    "s_1 = y_train.value_counts()\n",
    "s_2 = y_val.value_counts()\n",
    "s_3 = y_test.value_counts()\n",
    "s_4 = data_df[\"label\"].value_counts()\n",
    "\n",
    "plt.subplot(2, 2, 1)\n",
    "plt.title(\"train\")\n",
    "plt.pie(s_1, labels=s_1.index, autopct='%1.0f%%');\n",
    "\n",
    "plt.subplot(2, 2, 2)\n",
    "plt.title(\"val\")\n",
    "plt.pie(s_2, labels=s_2.index, autopct='%1.0f%%');\n",
    "\n",
    "plt.subplot(2, 2, 3)\n",
    "plt.title(\"test\")\n",
    "plt.pie(s_3, labels=s_3.index, autopct='%1.0f%%');\n",
    "\n",
    "plt.subplot(2, 2, 4)\n",
    "plt.title(\"all\")\n",
    "plt.pie(s_4, labels=s_4.index, autopct='%1.0f%%');\n",
    "\n",
    "# We note that the data is fairly unbalanced, with joy and sadness being the most common and surprise and love being the least common. The balance between the splits is acceptable though"
   ]
  },
  {
   "cell_type": "markdown",
   "metadata": {},
   "source": [
    "## Vectorization"
   ]
  },
  {
   "cell_type": "code",
   "execution_count": 6,
   "metadata": {},
   "outputs": [
    {
     "name": "stdout",
     "output_type": "stream",
     "text": [
      "WARNING:tensorflow:From c:\\Users\\hakan\\.virtualenvs\\Deep-learning-lab-O8p5G3Ji\\lib\\site-packages\\keras\\src\\backend.py:873: The name tf.get_default_graph is deprecated. Please use tf.compat.v1.get_default_graph instead.\n",
      "\n",
      "WARNING:tensorflow:From c:\\Users\\hakan\\.virtualenvs\\Deep-learning-lab-O8p5G3Ji\\lib\\site-packages\\keras\\src\\utils\\tf_utils.py:492: The name tf.ragged.RaggedTensorValue is deprecated. Please use tf.compat.v1.ragged.RaggedTensorValue instead.\n",
      "\n"
     ]
    }
   ],
   "source": [
    "from keras.layers import TextVectorization\n",
    "\n",
    "VOCAB_SIZE = 1000\n",
    "\n",
    "encoder = keras.layers.TextVectorization(max_tokens=VOCAB_SIZE, output_mode=\"int\", pad_to_max_tokens=True)\n",
    "encoder.adapt(X_train)\n",
    "X_train_tokenized = encoder(X_train)\n"
   ]
  },
  {
   "cell_type": "code",
   "execution_count": 9,
   "metadata": {},
   "outputs": [
    {
     "ename": "AttributeError",
     "evalue": "'TextVectorization' object has no attribute 'output_sequence_length'",
     "output_type": "error",
     "traceback": [
      "\u001b[1;31m---------------------------------------------------------------------------\u001b[0m",
      "\u001b[1;31mAttributeError\u001b[0m                            Traceback (most recent call last)",
      "Cell \u001b[1;32mIn[9], line 9\u001b[0m\n\u001b[0;32m      4\u001b[0m EMBEDDING_DIM \u001b[38;5;241m=\u001b[39m \u001b[38;5;241m128\u001b[39m  \u001b[38;5;66;03m# Size of the word embeddings\u001b[39;00m\n\u001b[0;32m      5\u001b[0m RNN_UNITS \u001b[38;5;241m=\u001b[39m \u001b[38;5;241m64\u001b[39m       \u001b[38;5;66;03m# Number of units in RNN layer\u001b[39;00m\n\u001b[0;32m      7\u001b[0m model \u001b[38;5;241m=\u001b[39m Sequential([\n\u001b[0;32m      8\u001b[0m     \u001b[38;5;66;03m# Embedding layer\u001b[39;00m\n\u001b[1;32m----> 9\u001b[0m     Embedding(input_dim\u001b[38;5;241m=\u001b[39mVOCAB_SIZE, output_dim\u001b[38;5;241m=\u001b[39mEMBEDDING_DIM, input_length\u001b[38;5;241m=\u001b[39m\u001b[43mencoder\u001b[49m\u001b[38;5;241;43m.\u001b[39;49m\u001b[43moutput_sequence_length\u001b[49m),\n\u001b[0;32m     10\u001b[0m     \n\u001b[0;32m     11\u001b[0m     \u001b[38;5;66;03m# RNN layer\u001b[39;00m\n\u001b[0;32m     12\u001b[0m     SimpleRNN(RNN_UNITS, return_sequences\u001b[38;5;241m=\u001b[39m\u001b[38;5;28;01mFalse\u001b[39;00m),  \u001b[38;5;66;03m# Set return_sequences=True if adding more RNN layers\u001b[39;00m\n\u001b[0;32m     13\u001b[0m     \n\u001b[0;32m     14\u001b[0m     \u001b[38;5;66;03m# Dense layer for classification\u001b[39;00m\n\u001b[0;32m     15\u001b[0m     Dense(\u001b[38;5;241m6\u001b[39m, activation\u001b[38;5;241m=\u001b[39m\u001b[38;5;124m'\u001b[39m\u001b[38;5;124msoftmax\u001b[39m\u001b[38;5;124m'\u001b[39m)  \u001b[38;5;66;03m# Assuming 6 classes for the sentiment\u001b[39;00m\n\u001b[0;32m     16\u001b[0m ])\n\u001b[0;32m     18\u001b[0m model\u001b[38;5;241m.\u001b[39mcompile(optimizer\u001b[38;5;241m=\u001b[39m\u001b[38;5;124m'\u001b[39m\u001b[38;5;124madam\u001b[39m\u001b[38;5;124m'\u001b[39m, loss\u001b[38;5;241m=\u001b[39m\u001b[38;5;124m'\u001b[39m\u001b[38;5;124msparse_categorical_crossentropy\u001b[39m\u001b[38;5;124m'\u001b[39m, metrics\u001b[38;5;241m=\u001b[39m[\u001b[38;5;124m'\u001b[39m\u001b[38;5;124maccuracy\u001b[39m\u001b[38;5;124m'\u001b[39m])\n",
      "\u001b[1;31mAttributeError\u001b[0m: 'TextVectorization' object has no attribute 'output_sequence_length'"
     ]
    }
   ],
   "source": [
    "from keras.models import Sequential\n",
    "from keras.layers import Embedding, SimpleRNN, Dense\n",
    "\n",
    "EMBEDDING_DIM = 128  # Size of the word embeddings\n",
    "RNN_UNITS = 64       # Number of units in RNN layer\n",
    "\n",
    "model = Sequential([\n",
    "    # Embedding layer\n",
    "    Embedding(input_dim=VOCAB_SIZE, output_dim=EMBEDDING_DIM, input_length=encoder.output_sequence_length),\n",
    "    \n",
    "    # RNN layer\n",
    "    SimpleRNN(RNN_UNITS, return_sequences=False),  # Set return_sequences=True if adding more RNN layers\n",
    "    \n",
    "    # Dense layer for classification\n",
    "    Dense(6, activation='softmax')  # Assuming 6 classes for the sentiment\n",
    "])\n",
    "\n",
    "model.compile(optimizer='adam', loss='sparse_categorical_crossentropy', metrics=['accuracy'])\n"
   ]
  },
  {
   "cell_type": "code",
   "execution_count": null,
   "metadata": {},
   "outputs": [],
   "source": [
    "model.summary()"
   ]
  }
 ],
 "metadata": {
  "kernelspec": {
   "display_name": "Deep-learning-lab-O8p5G3Ji",
   "language": "python",
   "name": "python3"
  },
  "language_info": {
   "codemirror_mode": {
    "name": "ipython",
    "version": 3
   },
   "file_extension": ".py",
   "mimetype": "text/x-python",
   "name": "python",
   "nbconvert_exporter": "python",
   "pygments_lexer": "ipython3",
   "version": "3.10.11"
  }
 },
 "nbformat": 4,
 "nbformat_minor": 2
}
