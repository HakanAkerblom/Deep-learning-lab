{
 "cells": [
  {
   "cell_type": "markdown",
   "metadata": {},
   "source": [
    "# EDA"
   ]
  },
  {
   "cell_type": "code",
   "execution_count": 27,
   "metadata": {},
   "outputs": [
    {
     "name": "stdout",
     "output_type": "stream",
     "text": [
      "<class 'pandas.core.frame.DataFrame'>\n",
      "RangeIndex: 3901 entries, 0 to 3900\n",
      "Data columns (total 4 columns):\n",
      " #   Column        Non-Null Count  Dtype \n",
      "---  ------        --------------  ----- \n",
      " 0   case_id       3901 non-null   int64 \n",
      " 1   test_case     3901 non-null   object\n",
      " 2   label_gold    3901 non-null   object\n",
      " 3   target_ident  3606 non-null   object\n",
      "dtypes: int64(1), object(3)\n",
      "memory usage: 122.0+ KB\n"
     ]
    }
   ],
   "source": [
    "import pandas as pd\n",
    "from sklearn.model_selection import train_test_split\n",
    "\n",
    "data_df = pd.read_csv(\"data/hate/hate-text.csv\")\n",
    "data_df.info()\n"
   ]
  },
  {
   "cell_type": "code",
   "execution_count": 28,
   "metadata": {},
   "outputs": [],
   "source": [
    "# We note that there are rows that are identified as \"non-hateful\" but not against a certain group, we fill those rows with \"no group\"\n",
    "data_df[\"target_ident\"].fillna(value=\"no group\", inplace=True)"
   ]
  },
  {
   "cell_type": "code",
   "execution_count": 29,
   "metadata": {},
   "outputs": [
    {
     "data": {
      "text/plain": [
       "label_gold\n",
       "hateful        2659\n",
       "non-hateful    1242\n",
       "Name: count, dtype: int64"
      ]
     },
     "execution_count": 29,
     "metadata": {},
     "output_type": "execute_result"
    }
   ],
   "source": [
    "data_df[\"label_gold\"].value_counts()"
   ]
  },
  {
   "cell_type": "code",
   "execution_count": 30,
   "metadata": {},
   "outputs": [
    {
     "data": {
      "text/plain": [
       "target_ident\n",
       "women              388\n",
       "gay people         388\n",
       "disabled people    388\n",
       "Muslims            388\n",
       "trans people       369\n",
       "black people       369\n",
       "immigrants         369\n",
       "Name: count, dtype: int64"
      ]
     },
     "execution_count": 30,
     "metadata": {},
     "output_type": "execute_result"
    }
   ],
   "source": [
    "# Checking value counts for hateful comments.\n",
    "data_df[data_df[\"label_gold\"] == \"hateful\"][\"target_ident\"].value_counts()"
   ]
  },
  {
   "cell_type": "code",
   "execution_count": 31,
   "metadata": {},
   "outputs": [
    {
     "data": {
      "text/plain": [
       "target_ident\n",
       "no group           295\n",
       "gay people         189\n",
       "women              147\n",
       "black people       135\n",
       "disabled people    122\n",
       "Muslims            122\n",
       "trans people       116\n",
       "immigrants         116\n",
       "Name: count, dtype: int64"
      ]
     },
     "execution_count": 31,
     "metadata": {},
     "output_type": "execute_result"
    }
   ],
   "source": [
    "# Checking value counts for non-hateful comments.\n",
    "data_df[data_df[\"label_gold\"] == \"non-hateful\"][\"target_ident\"].value_counts()\n",
    "\n",
    "# We note that the data is a little bit unbalanced.\n",
    "# The fact that it is common that non-hateful comments are not directed to a specific group does sound logical though."
   ]
  },
  {
   "cell_type": "code",
   "execution_count": 32,
   "metadata": {},
   "outputs": [],
   "source": [
    "X, y = data_df[\"test_case\"], data_df[[\"label_gold\", \"target_ident\"]]"
   ]
  },
  {
   "cell_type": "code",
   "execution_count": null,
   "metadata": {},
   "outputs": [],
   "source": [
    "# Splitting the data\n",
    "X_train, X_test, y_train, y_test = train_test_split(\n",
    "    X, y, test_size=0.15, random_state=42\n",
    ")\n",
    "X_train, X_val, y_train, y_val = train_test_split(\n",
    "    X_train, y_train, test_size=0.15, random_state=42\n",
    ")"
   ]
  },
  {
   "cell_type": "code",
   "execution_count": 60,
   "metadata": {},
   "outputs": [
    {
     "name": "stdout",
     "output_type": "stream",
     "text": [
      "Binary Encoded labels:\n",
      "[[0 0 0 ... 0 0 1]\n",
      " [0 0 0 ... 0 1 0]\n",
      " [0 0 0 ... 0 0 0]\n",
      " ...\n",
      " [0 0 1 ... 0 0 0]\n",
      " [1 0 0 ... 0 0 0]\n",
      " [0 0 0 ... 0 0 0]]\n"
     ]
    },
    {
     "data": {
      "text/plain": [
       "numpy.ndarray"
      ]
     },
     "execution_count": 60,
     "metadata": {},
     "output_type": "execute_result"
    }
   ],
   "source": [
    "from sklearn.preprocessing import MultiLabelBinarizer\n",
    "\n",
    "labels = [row.tolist() for _, row in y.iterrows()]\n",
    "\n",
    "label_encoder = MultiLabelBinarizer()\n",
    "\n",
    "label_encoder.fit(labels)\n",
    "\n",
    "label_encoded = label_encoder.transform(labels)\n",
    "\n",
    "print(\"Binary Encoded labels:\")\n",
    "print(label_encoded)\n",
    "type(label_encoded)\n",
    "#"
   ]
  },
  {
   "cell_type": "code",
   "execution_count": 56,
   "metadata": {},
   "outputs": [
    {
     "data": {
      "text/plain": [
       "(3901, 2)"
      ]
     },
     "execution_count": 56,
     "metadata": {},
     "output_type": "execute_result"
    }
   ],
   "source": []
  },
  {
   "cell_type": "code",
   "execution_count": null,
   "metadata": {},
   "outputs": [],
   "source": [
    "from sklearn.preprocessing import MultiLabelBinarizer"
   ]
  },
  {
   "cell_type": "code",
   "execution_count": null,
   "metadata": {},
   "outputs": [],
   "source": [
    "from keras.layers import TextVectorization\n",
    "from keras.preprocessing.sequence import pad_sequences\n",
    "\n",
    "\n",
    "VOCAB_SIZE = 1000\n",
    "\n",
    "# Creating Vectorization instance\n",
    "encoder = TextVectorization(max_tokens=VOCAB_SIZE, output_mode=\"int\", pad_to_max_tokens=True)\n",
    "encoder.adapt(X_train)\n",
    "\n",
    "X_train_vec = encoder(X_train).numpy()\n",
    "X_val_vec = encoder(X_val).numpy()\n",
    "X_test_vec = encoder(X_test).numpy()\n",
    "\n",
    "# padding the X_datasets\n",
    "MAX_LENGTH = max([len(seq) for seq in X_train_vec])\n",
    "X_train_padded = pad_sequences(X_train_vec, maxlen=MAX_LENGTH, padding='post')\n",
    "X_val_padded = pad_sequences(X_val_vec, maxlen=MAX_LENGTH, padding='post')\n",
    "X_test_padded = pad_sequences(X_test_vec, maxlen=MAX_LENGTH, padding='post')"
   ]
  }
 ],
 "metadata": {
  "kernelspec": {
   "display_name": "Deep-learning-lab-XbqEFAT_",
   "language": "python",
   "name": "python3"
  },
  "language_info": {
   "codemirror_mode": {
    "name": "ipython",
    "version": 3
   },
   "file_extension": ".py",
   "mimetype": "text/x-python",
   "name": "python",
   "nbconvert_exporter": "python",
   "pygments_lexer": "ipython3",
   "version": "3.10.0"
  }
 },
 "nbformat": 4,
 "nbformat_minor": 2
}
